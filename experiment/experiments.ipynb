{
 "cells": [
  {
   "cell_type": "code",
   "execution_count": 7,
   "metadata": {},
   "outputs": [],
   "source": [
    "import mongodb_connect ## Inside the python package \"Mongo Connect\" is the folder name\n",
    "from mongodb_connect import mongo_crud ## Inside the folder we have \"Mongo Crud\" which has the actual class"
   ]
  },
  {
   "cell_type": "code",
   "execution_count": 8,
   "metadata": {},
   "outputs": [
    {
     "data": {
      "text/plain": [
       "['__builtins__',\n",
       " '__cached__',\n",
       " '__doc__',\n",
       " '__file__',\n",
       " '__loader__',\n",
       " '__name__',\n",
       " '__package__',\n",
       " '__path__',\n",
       " '__spec__',\n",
       " 'mongo_crud']"
      ]
     },
     "execution_count": 8,
     "metadata": {},
     "output_type": "execute_result"
    }
   ],
   "source": [
    "dir(mongodb_connect)"
   ]
  },
  {
   "cell_type": "code",
   "execution_count": 11,
   "metadata": {},
   "outputs": [],
   "source": [
    "url = \"mongodb://localhost:27017\"\n",
    "name = \"packagedb\"\n",
    "db = mongodb_connect.mongo_crud.mongo_operation(client_url=url, \n",
    "                                                database_name = name)"
   ]
  },
  {
   "cell_type": "code",
   "execution_count": 13,
   "metadata": {},
   "outputs": [
    {
     "ename": "TypeError",
     "evalue": "name must be an instance of str",
     "output_type": "error",
     "traceback": [
      "\u001b[1;31m---------------------------------------------------------------------------\u001b[0m",
      "\u001b[1;31mTypeError\u001b[0m                                 Traceback (most recent call last)",
      "Cell \u001b[1;32mIn[13], line 1\u001b[0m\n\u001b[1;32m----> 1\u001b[0m \u001b[43mdb\u001b[49m\u001b[38;5;241;43m.\u001b[39;49m\u001b[43minsert_record\u001b[49m\u001b[43m(\u001b[49m\u001b[43m{\u001b[49m\u001b[38;5;124;43m\"\u001b[39;49m\u001b[38;5;124;43mname\u001b[39;49m\u001b[38;5;124;43m\"\u001b[39;49m\u001b[43m:\u001b[49m\u001b[43m \u001b[49m\u001b[38;5;124;43m\"\u001b[39;49m\u001b[38;5;124;43mdiljyot\u001b[39;49m\u001b[38;5;124;43m\"\u001b[39;49m\u001b[43m}\u001b[49m\u001b[43m,\u001b[49m\u001b[43m \u001b[49m\u001b[38;5;124;43m\"\u001b[39;49m\u001b[38;5;124;43mtest collection\u001b[39;49m\u001b[38;5;124;43m\"\u001b[39;49m\u001b[43m)\u001b[49m\n",
      "File \u001b[1;32mc:\\Users\\diljy\\Desktop\\MLops - Ineuron\\mlops\\Lib\\site-packages\\mongodb_connect\\mongo_crud.py:49\u001b[0m, in \u001b[0;36mmongo_operation.insert_record\u001b[1;34m(self, record, collection_name)\u001b[0m\n\u001b[0;32m     47\u001b[0m     collection\u001b[38;5;241m.\u001b[39minsert_many(record)\n\u001b[0;32m     48\u001b[0m \u001b[38;5;28;01melif\u001b[39;00m \u001b[38;5;28mtype\u001b[39m(record)\u001b[38;5;241m==\u001b[39m\u001b[38;5;28mdict\u001b[39m:\n\u001b[1;32m---> 49\u001b[0m     collection\u001b[38;5;241m=\u001b[39m\u001b[38;5;28;43mself\u001b[39;49m\u001b[38;5;241;43m.\u001b[39;49m\u001b[43mcreate_collection\u001b[49m\u001b[43m(\u001b[49m\u001b[43mcollection_name\u001b[49m\u001b[43m)\u001b[49m\n\u001b[0;32m     50\u001b[0m     collection\u001b[38;5;241m.\u001b[39minsert_one(record)\n",
      "File \u001b[1;32mc:\\Users\\diljy\\Desktop\\MLops - Ineuron\\mlops\\Lib\\site-packages\\mongodb_connect\\mongo_crud.py:31\u001b[0m, in \u001b[0;36mmongo_operation.create_collection\u001b[1;34m(self, collection)\u001b[0m\n\u001b[0;32m     29\u001b[0m \u001b[38;5;28;01mif\u001b[39;00m mongo_operation\u001b[38;5;241m.\u001b[39m__collection\u001b[38;5;241m==\u001b[39m\u001b[38;5;28;01mNone\u001b[39;00m:\n\u001b[0;32m     30\u001b[0m     database\u001b[38;5;241m=\u001b[39m\u001b[38;5;28mself\u001b[39m\u001b[38;5;241m.\u001b[39mcreate_database(collection)\n\u001b[1;32m---> 31\u001b[0m     \u001b[38;5;28mself\u001b[39m\u001b[38;5;241m.\u001b[39mcollection\u001b[38;5;241m=\u001b[39m\u001b[43mdatabase\u001b[49m\u001b[43m[\u001b[49m\u001b[38;5;28;43mself\u001b[39;49m\u001b[38;5;241;43m.\u001b[39;49m\u001b[43mcollection_name\u001b[49m\u001b[43m]\u001b[49m\n\u001b[0;32m     32\u001b[0m     mongo_operation\u001b[38;5;241m.\u001b[39m__collection\u001b[38;5;241m=\u001b[39mcollection\n\u001b[0;32m     34\u001b[0m \u001b[38;5;28;01mif\u001b[39;00m mongo_operation\u001b[38;5;241m.\u001b[39m__collection\u001b[38;5;241m!=\u001b[39mcollection:\n",
      "File \u001b[1;32mc:\\Users\\diljy\\Desktop\\MLops - Ineuron\\mlops\\Lib\\site-packages\\pymongo\\database.py:240\u001b[0m, in \u001b[0;36mDatabase.__getitem__\u001b[1;34m(self, name)\u001b[0m\n\u001b[0;32m    232\u001b[0m \u001b[38;5;28;01mdef\u001b[39;00m \u001b[38;5;21m__getitem__\u001b[39m(\u001b[38;5;28mself\u001b[39m, name: \u001b[38;5;28mstr\u001b[39m) \u001b[38;5;241m-\u001b[39m\u001b[38;5;241m>\u001b[39m Collection[_DocumentType]:\n\u001b[0;32m    233\u001b[0m \u001b[38;5;250m    \u001b[39m\u001b[38;5;124;03m\"\"\"Get a collection of this database by name.\u001b[39;00m\n\u001b[0;32m    234\u001b[0m \n\u001b[0;32m    235\u001b[0m \u001b[38;5;124;03m    Raises InvalidName if an invalid collection name is used.\u001b[39;00m\n\u001b[1;32m   (...)\u001b[0m\n\u001b[0;32m    238\u001b[0m \u001b[38;5;124;03m      - `name`: the name of the collection to get\u001b[39;00m\n\u001b[0;32m    239\u001b[0m \u001b[38;5;124;03m    \"\"\"\u001b[39;00m\n\u001b[1;32m--> 240\u001b[0m     \u001b[38;5;28;01mreturn\u001b[39;00m \u001b[43mCollection\u001b[49m\u001b[43m(\u001b[49m\u001b[38;5;28;43mself\u001b[39;49m\u001b[43m,\u001b[49m\u001b[43m \u001b[49m\u001b[43mname\u001b[49m\u001b[43m)\u001b[49m\n",
      "File \u001b[1;32mc:\\Users\\diljy\\Desktop\\MLops - Ineuron\\mlops\\Lib\\site-packages\\pymongo\\collection.py:224\u001b[0m, in \u001b[0;36mCollection.__init__\u001b[1;34m(self, database, name, create, codec_options, read_preference, write_concern, read_concern, session, **kwargs)\u001b[0m\n\u001b[0;32m    217\u001b[0m \u001b[38;5;28msuper\u001b[39m()\u001b[38;5;241m.\u001b[39m\u001b[38;5;21m__init__\u001b[39m(\n\u001b[0;32m    218\u001b[0m     codec_options \u001b[38;5;129;01mor\u001b[39;00m database\u001b[38;5;241m.\u001b[39mcodec_options,\n\u001b[0;32m    219\u001b[0m     read_preference \u001b[38;5;129;01mor\u001b[39;00m database\u001b[38;5;241m.\u001b[39mread_preference,\n\u001b[0;32m    220\u001b[0m     write_concern \u001b[38;5;129;01mor\u001b[39;00m database\u001b[38;5;241m.\u001b[39mwrite_concern,\n\u001b[0;32m    221\u001b[0m     read_concern \u001b[38;5;129;01mor\u001b[39;00m database\u001b[38;5;241m.\u001b[39mread_concern,\n\u001b[0;32m    222\u001b[0m )\n\u001b[0;32m    223\u001b[0m \u001b[38;5;28;01mif\u001b[39;00m \u001b[38;5;129;01mnot\u001b[39;00m \u001b[38;5;28misinstance\u001b[39m(name, \u001b[38;5;28mstr\u001b[39m):\n\u001b[1;32m--> 224\u001b[0m     \u001b[38;5;28;01mraise\u001b[39;00m \u001b[38;5;167;01mTypeError\u001b[39;00m(\u001b[38;5;124m\"\u001b[39m\u001b[38;5;124mname must be an instance of str\u001b[39m\u001b[38;5;124m\"\u001b[39m)\n\u001b[0;32m    226\u001b[0m \u001b[38;5;28;01mif\u001b[39;00m \u001b[38;5;129;01mnot\u001b[39;00m name \u001b[38;5;129;01mor\u001b[39;00m \u001b[38;5;124m\"\u001b[39m\u001b[38;5;124m..\u001b[39m\u001b[38;5;124m\"\u001b[39m \u001b[38;5;129;01min\u001b[39;00m name:\n\u001b[0;32m    227\u001b[0m     \u001b[38;5;28;01mraise\u001b[39;00m InvalidName(\u001b[38;5;124m\"\u001b[39m\u001b[38;5;124mcollection names cannot be empty\u001b[39m\u001b[38;5;124m\"\u001b[39m)\n",
      "\u001b[1;31mTypeError\u001b[0m: name must be an instance of str"
     ]
    }
   ],
   "source": [
    "db.insert_record({\"name\": \"diljyot\"}, \"test collection\")"
   ]
  },
  {
   "cell_type": "code",
   "execution_count": null,
   "metadata": {},
   "outputs": [],
   "source": []
  }
 ],
 "metadata": {
  "kernelspec": {
   "display_name": "mlops",
   "language": "python",
   "name": "python3"
  },
  "language_info": {
   "codemirror_mode": {
    "name": "ipython",
    "version": 3
   },
   "file_extension": ".py",
   "mimetype": "text/x-python",
   "name": "python",
   "nbconvert_exporter": "python",
   "pygments_lexer": "ipython3",
   "version": "3.11.8"
  }
 },
 "nbformat": 4,
 "nbformat_minor": 2
}
